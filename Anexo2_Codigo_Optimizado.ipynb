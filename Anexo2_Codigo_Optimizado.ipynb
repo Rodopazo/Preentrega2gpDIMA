{
 "cells": [
  {
   "cell_type": "code",
   "execution_count": null,
   "id": "7b009910-59da-4480-b41c-eb60167f319b",
   "metadata": {},
   "outputs": [],
   "source": [
    "# Anexo 2: Código Optimizado\n"
   ]
  },
  {
   "cell_type": "markdown",
   "id": "f489e83e",
   "metadata": {},
   "source": [
    "## Introducción\n",
    "En este anexo se documenta el código final utilizado en el desarrollo del **Diccionario Mágico para Atrevidos**. El objetivo es proporcionar una visión detallada de cada sección del código, explicando su propósito y funcionamiento.\n"
   ]
  },
  {
   "cell_type": "markdown",
   "id": "6d84067e",
   "metadata": {},
   "source": [
    "## Sección 1: Configuración de la API Key\n",
    "Esta sección configura la clave de acceso para utilizar la API de OpenAI, necesaria para interactuar con los modelos de lenguaje y generación de imágenes.\n"
   ]
  },
  {
   "cell_type": "code",
   "execution_count": null,
   "id": "e11503fd",
   "metadata": {},
   "outputs": [],
   "source": [
    "# Importar la biblioteca de OpenAI\n",
    "import openai\n",
    "\n",
    "# Configurar la clave API\n",
    "openai.api_key = \"tu_clave_api_aquí\"  # Reemplaza con tu clave válida\n",
    "\n",
    "# Alternativa segura usando variables de entorno\n",
    "# from dotenv import load_dotenv\n",
    "# import os\n",
    "# load_dotenv()\n",
    "# openai.api_key = os.getenv(\"OPENAI_API_KEY\")\n"
   ]
  },
  {
   "cell_type": "markdown",
   "id": "e213293e",
   "metadata": {},
   "source": [
    "## Sección 2: Generación de Imágenes\n",
    "Esta función genera imágenes utilizando el modelo DALL·E de OpenAI. Recorta el texto si excede el límite permitido de caracteres y asegura que la descripción sea coherente.\n"
   ]
  },
  {
   "cell_type": "code",
   "execution_count": null,
   "id": "287f0911",
   "metadata": {},
   "outputs": [],
   "source": [
    "def generar_imagen(entrada, descripcion_visual):\n",
    "    \"\"\"Genera una imagen mágica usando DALL·E basada en la descripción proporcionada.\"\"\"\n",
    "    try:\n",
    "        print(\"🎨 Generando imagen mágica...\")\n",
    "        secciones = descripcion_visual.split(\"\\n\")\n",
    "        prompt_reducido = \"\"\n",
    "        \n",
    "        for seccion in secciones:\n",
    "            if len(prompt_reducido) + len(seccion) + 1 <= 1000:\n",
    "                prompt_reducido += seccion + \"\\n\"\n",
    "            else:\n",
    "                break\n",
    "\n",
    "        image_response = openai.Image.create(\n",
    "            prompt=f\"Representación artística del concepto '{entrada}': {prompt_reducido}. Usa colores vibrantes y elementos mágicos.\",\n",
    "            n=1,\n",
    "            size=\"512x512\"\n",
    "        )\n",
    "        return image_response['data'][0]['url']\n",
    "    except Exception as e:\n",
    "        return f\"⚠️ Error al generar la imagen: {e}\"\n"
   ]
  },
  {
   "cell_type": "markdown",
   "id": "d0b7d5b9",
   "metadata": {},
   "source": [
    "## Sección 3: Análisis Principal\n",
    "La función `dima_analisis_con_imagen_y_alternativas` realiza el análisis textual basado en etimología, genera una imagen (si aplica) y propone alternativas positivas para términos con vibraciones bajas o medias.\n"
   ]
  },
  {
   "cell_type": "code",
   "execution_count": null,
   "id": "5444f703",
   "metadata": {},
   "outputs": [],
   "source": [
    "def dima_analisis_con_imagen_y_alternativas(tipo, entrada):\n",
    "    \"\"\"Realiza un análisis textual basado en la etimología y genera resultados mágicos.\"\"\"\n",
    "    try:\n",
    "        if tipo == \"1\":\n",
    "            prompt = f\"\"\"Analiza la palabra '{entrada}' en las siguientes dimensiones:\n",
    "            1. Etimología: Explica el origen histórico y cultural del término.\n",
    "            2. Explicación derivada: Describe el significado actual basado en su etimología.\n",
    "            3. Energía: Clasifica la vibración (alta, media, baja) y justifica.\"\"\"\n",
    "        elif tipo == \"2\":\n",
    "            prompt = f\"\"\"Simplifica el siguiente fragmento: '{entrada}'\n",
    "            1. Proporciona una explicación clara y accesible.\n",
    "            2. Energía: Clasifica la vibración (alta, media, baja) y justifica.\"\"\"\n",
    "        \n",
    "        response = openai.ChatCompletion.create(\n",
    "            model=\"gpt-4\",\n",
    "            messages=[{\"role\": \"user\", \"content\": prompt}],\n",
    "            max_tokens=500,\n",
    "            temperature=0.7\n",
    "        )\n",
    "        \n",
    "        resultado = response['choices'][0]['message']['content']\n",
    "        print(\"\\n🔮 Resultado del Diccionario Mágico para Atrevidos 🔮\")\n",
    "        print(resultado)\n",
    "\n",
    "        if \"Vibración baja\" in resultado:\n",
    "            descripcion_visual = f\"Representación artística basada en: {resultado}\"\n",
    "            imagen_url = generar_imagen(entrada, descripcion_visual)\n",
    "            print(f\"\\n🖼️ Imagen generada automáticamente: {imagen_url}\")\n",
    "        else:\n",
    "            generar_imagen_opcion = input(\"\\n🎨 ¿Te gustaría ver una representación visual mágica? (sí/no): \").strip().lower()\n",
    "            if generar_imagen_opcion in [\"sí\", \"si\"]:\n",
    "                descripcion_visual = f\"Representación artística basada en: {resultado}\"\n",
    "                imagen_url = generar_imagen(entrada, descripcion_visual)\n",
    "                print(f\"\\n🖼️ Imagen generada: {imagen_url}\")\n",
    "        \n",
    "        alternativas_opcion = input(\"\\n✨ ¿Te gustaría explorar alternativas mágicas? (sí/no): \").strip().lower()\n",
    "        if alternativas_opcion in [\"sí\", \"si\"]:\n",
    "            alternativas_prompt = f\"\"\"Sugiere tres palabras alternativas que mantengan el significado de '{entrada}' pero sean más positivas.\"\"\"\n",
    "            response_alternativas = openai.ChatCompletion.create(\n",
    "                model=\"gpt-4\",\n",
    "                messages=[{\"role\": \"user\", \"content\": alternativas_prompt}],\n",
    "                max_tokens=100,\n",
    "                temperature=0.7\n",
    "            )\n",
    "            print(\"\\n4. Alternativas mágicas:\")\n",
    "            print(response_alternativas['choices'][0]['message']['content'])\n",
    "    except Exception as e:\n",
    "        print(f\"⚠️ Error al realizar el análisis: {e}\")\n"
   ]
  },
  {
   "cell_type": "markdown",
   "id": "3701b71d",
   "metadata": {},
   "source": [
    "## Sección 4: Ejecución Interactiva\n",
    "La función `menu_interactivo` permite a los usuarios realizar múltiples consultas de forma interactiva, eligiendo entre analizar palabras, conceptos o fragmentos complejos.\n"
   ]
  },
  {
   "cell_type": "code",
   "execution_count": null,
   "id": "f65a866c",
   "metadata": {},
   "outputs": [],
   "source": [
    "def menu_interactivo():\n",
    "    while True:\n",
    "        print(\"\\n🌟 Bienvenido al Diccionario Mágico para Atrevidos 🌟\")\n",
    "        print(\"✨ ¿Qué deseas develar hoy? ✨\")\n",
    "        print(\"1. Decodificar palabras o conceptos\")\n",
    "        print(\"2. Entender un fragmento complejo\")\n",
    "        \n",
    "        tipo = input(\"Elige una opción (1 o 2): \").strip()\n",
    "        while tipo not in [\"1\", \"2\"]:\n",
    "            print(\"⚠️ Por favor, ingresa una opción válida: 1 o 2.\")\n",
    "            tipo = input(\"Elige una opción (1 o 2): \").strip()\n",
    "        \n",
    "        entrada = input(\"Escribe la palabra, concepto o fragmento para analizar: \").strip()\n",
    "        if entrada.isdigit():\n",
    "            entrada = str(entrada)\n",
    "        \n",
    "        dima_analisis_con_imagen_y_alternativas(tipo, entrada)\n",
    "        \n",
    "        otra_consulta = input(\"\\n¿Te gustaría realizar otra búsqueda? (sí/no): \").strip().lower()\n",
    "        if otra_consulta not in [\"sí\", \"si\"]:\n",
    "            print(\"\\n✨ Gracias por consultar el Diccionario Mágico para Atrevidos.\")\n",
    "            print(\"💫 Siempre a tu servicio para develar nuevos significados. ¡Hasta pronto! 💫\")\n",
    "            break\n",
    "\n",
    "menu_interactivo()\n"
   ]
  },
  {
   "cell_type": "markdown",
   "id": "e1e9a39a",
   "metadata": {},
   "source": [
    "## Conclusión\n",
    "El código documentado aquí refleja las optimizaciones realizadas para garantizar que el Diccionario Mágico para Atrevidos sea eficiente, interactivo y útil para analizar conceptos complejos. Los comentarios y explicaciones buscan facilitar su comprensión y posible adaptación a otros proyectos.Aún tengo dificultades para que la imagen creada por DALL.E se adecue a la descripción esperada. Espero resolverlo para la entrega final."
   ]
  }
 ],
 "metadata": {
  "kernelspec": {
   "display_name": "Python 3 (ipykernel)",
   "language": "python",
   "name": "python3"
  },
  "language_info": {
   "codemirror_mode": {
    "name": "ipython",
    "version": 3
   },
   "file_extension": ".py",
   "mimetype": "text/x-python",
   "name": "python",
   "nbconvert_exporter": "python",
   "pygments_lexer": "ipython3",
   "version": "3.12.4"
  }
 },
 "nbformat": 4,
 "nbformat_minor": 5
}

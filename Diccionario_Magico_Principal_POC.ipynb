{
 "cells": [
  {
   "cell_type": "markdown",
   "id": "063c33ad",
   "metadata": {},
   "source": [
    "# Diccionario Mágico para Atrevidos\n",
    "### Documento Principal - Preentrega 2 (POC)\n",
    "### Autor: Rocío Dopazo\n",
    "### Curso: Generación de Prompts  N° de Comisión: [67115]       Fecha: 3/12/2024\n"
   ]
  },
  {
   "cell_type": "markdown",
   "id": "7e7e4dbf",
   "metadata": {},
   "source": [
    "## Introducción\n",
    "El **Diccionario Mágico para Atrevidos (DIMA)** aborda el problema de la complejidad lingüística y emocional de las palabras, ofreciendo un análisis etimológico, energético y visual que ayuda a las personas a comprender mejor el impacto del lenguaje. Este proyecto combina técnicas avanzadas de **Fast Prompting** con el poder de los modelos de lenguaje e imagen de OpenAI, transformando el aprendizaje y la comunicación.\n",
    "\n",
    "En esta segunda preentrega, se presenta un **Proof of Concept (POC)** que implementa técnicas de Fast Prompting para optimizar las respuestas del modelo, demostrando su eficacia en tareas de análisis lingüístico y conceptual.\n"
   ]
  },
  {
   "cell_type": "markdown",
   "id": "aa9a5d72",
   "metadata": {},
   "source": [
    "## Propósito\n",
    "Este notebook tiene como objetivo cumplir con los siguientes puntos de la consigna:\n",
    "- **Demostrar comprensión** de los principios de Fast Prompting.\n",
    "- **Experimentar** con diferentes configuraciones de prompts para optimizar la eficacia.\n",
    "- **Preparar una demostración interactiva** que permita explorar el funcionamiento del sistema.\n",
    "- **Analizar las mejoras** logradas respecto a la propuesta inicial.\n"
   ]
  },
  {
   "cell_type": "markdown",
   "id": "f6080a2c",
   "metadata": {},
   "source": [
    "## POC: Implementación de Técnicas de Fast Prompting\n",
    "### Técnicas de Fast Prompting\n",
    "- **Zero-shot Prompting**: Utilizado para consultas simples, como la etimología de palabras individuales.\n",
    "- **One-shot Prompting**: Implementado en el análisis de términos con significados múltiples o abstractos.\n",
    "- **Few-shot Prompting**: Fundamental para tareas complejas, como la generación de alternativas positivas y el análisis de fragmentos extensos.\n"
   ]
  },
  {
   "cell_type": "markdown",
   "id": "dd17010a",
   "metadata": {},
   "source": [
    "## Código Ejecutable\n",
    "El siguiente bloque de código contiene la implementación interactiva del DIMA. Está diseñado para:\n",
    "- Analizar palabras y fragmentos.\n",
    "- Evaluar la energía de las palabras (alta, media o baja).\n",
    "- Generar representaciones visuales y sugerencias alternativas, dependiendo de la evaluación energética.\n"
   ]
  },
  {
   "cell_type": "markdown",
   "id": "38501f42",
   "metadata": {},
   "source": [
    "### Código\n"
   ]
  },
  {
   "cell_type": "code",
   "execution_count": null,
   "id": "b2796032",
   "metadata": {},
   "outputs": [
    {
     "name": "stdout",
     "output_type": "stream",
     "text": [
      "\n",
      "🌟 Bienvenido al Diccionario Mágico para Atrevidos 🌟\n",
      "✨ ¿Qué deseas develar hoy? ✨\n",
      "1. Decodificar palabras o conceptos\n",
      "2. Entender un fragmento complejo\n"
     ]
    },
    {
     "name": "stdout",
     "output_type": "stream",
     "text": [
      "Elige una opción (1 o 2):  1\n",
      "Escribe la palabra, concepto o fragmento para analizar:  valentía\n"
     ]
    },
    {
     "name": "stdout",
     "output_type": "stream",
     "text": [
      "\n",
      "🔮 Resultado del Diccionario Mágico para Atrevidos 🔮\n",
      "1. Etimología: La palabra \"valentía\" proviene del latín \"valentia\", que a su vez deriva de \"valens\" que significa \"ser fuerte\". En su origen, esta palabra se utilizaba para describir a personas fuertes, vigorosas y valientes en el campo de batalla.\n",
      "\n",
      "2. Explicación derivada: Basándonos en su etimología, \"valentía\" se refiere a la cualidad de ser valiente, es decir, tener el coraje de enfrentarse a situaciones peligrosas o intimidantes a pesar del miedo. No obstante, en la actualidad, esta palabra no sólo se utiliza para describir el coraje físico, sino también el coraje moral, es decir, la capacidad de hacer lo correcto a pesar de las consecuencias negativas que pueda tener. \n",
      "\n",
      "3. Energía: La vibración de la palabra \"valentía\" puede clasificarse como alta. Esto se debe a que la valentía es una cualidad altamente positiva y respetada en la sociedad. La valentía implica fuerza, coraje y determinación, cualidades que son energéticamente altas y positivas. Además, la valentía a menudo implica tomar medidas decisivas y enfrentar desafíos, lo cual también corresponde a una energía alta.\n"
     ]
    },
    {
     "name": "stdout",
     "output_type": "stream",
     "text": [
      "\n",
      "🎨 ¿Te gustaría ver una representación visual mágica? (sí/no):  si\n"
     ]
    },
    {
     "name": "stdout",
     "output_type": "stream",
     "text": [
      "🎨 Generando imagen mágica...\n",
      "\n",
      "🖼️ Imagen generada: ⚠️ Error al generar la imagen: The server had an error while processing your request. Sorry about that! You can retry your request, or contact us through our help center at help.openai.com if the error persists. (Please include the request ID req_9ef8861e5ac40ede591d8675fa447901 in your message.) {\n",
      "  \"error\": {\n",
      "    \"code\": null,\n",
      "    \"message\": \"The server had an error while processing your request. Sorry about that! You can retry your request, or contact us through our help center at help.openai.com if the error persists. (Please include the request ID req_9ef8861e5ac40ede591d8675fa447901 in your message.)\",\n",
      "    \"param\": null,\n",
      "    \"type\": \"server_error\"\n",
      "  }\n",
      "}\n",
      " 500 {'error': {'code': None, 'message': 'The server had an error while processing your request. Sorry about that! You can retry your request, or contact us through our help center at help.openai.com if the error persists. (Please include the request ID req_9ef8861e5ac40ede591d8675fa447901 in your message.)', 'param': None, 'type': 'server_error'}} {'Date': 'Wed, 04 Dec 2024 00:59:50 GMT', 'Content-Type': 'application/json', 'Content-Length': '370', 'Connection': 'keep-alive', 'access-control-allow-origin': '*', 'openai-version': '2020-10-01', 'openai-organization': 'user-wyvscsuv4hheytl8auszfga6', 'x-request-id': 'req_9ef8861e5ac40ede591d8675fa447901', 'openai-processing-ms': '9947', 'strict-transport-security': 'max-age=31536000; includeSubDomains; preload', 'CF-Cache-Status': 'DYNAMIC', 'X-Content-Type-Options': 'nosniff', 'Server': 'cloudflare', 'CF-RAY': '8ec7daebcf059b1d-EZE', 'alt-svc': 'h3=\":443\"; ma=86400'}\n"
     ]
    },
    {
     "name": "stdout",
     "output_type": "stream",
     "text": [
      "\n",
      "✨ ¿Te gustaría explorar alternativas mágicas? (sí/no):  si\n"
     ]
    },
    {
     "name": "stdout",
     "output_type": "stream",
     "text": [
      "\n",
      "4. Alternativas mágicas:\n",
      "Coraje, bravura, heroísmo\n"
     ]
    },
    {
     "name": "stdout",
     "output_type": "stream",
     "text": [
      "\n",
      "¿Te gustaría realizar otra búsqueda? (sí/no):  si\n"
     ]
    },
    {
     "name": "stdout",
     "output_type": "stream",
     "text": [
      "\n",
      "🌟 Bienvenido al Diccionario Mágico para Atrevidos 🌟\n",
      "✨ ¿Qué deseas develar hoy? ✨\n",
      "1. Decodificar palabras o conceptos\n",
      "2. Entender un fragmento complejo\n"
     ]
    },
    {
     "name": "stdout",
     "output_type": "stream",
     "text": [
      "Elige una opción (1 o 2):  1\n",
      "Escribe la palabra, concepto o fragmento para analizar:  valentía\n"
     ]
    },
    {
     "name": "stdout",
     "output_type": "stream",
     "text": [
      "\n",
      "🔮 Resultado del Diccionario Mágico para Atrevidos 🔮\n",
      "1. Etimología: La palabra \"valentía\" proviene del latín \"valentia\", que significa \"fuerza\" o \"vigor\". Este término, a su vez, deriva del adjetivo \"valens\" que significa \"fuerte\" o \"vigoroso\". En términos más amplios, la palabra tiene raíces en la cultura romana, donde la fuerza y el valor eran virtudes muy valoradas.\n",
      "\n",
      "2. Explicación derivada: Basándose en su etimología, el término \"valentía\" se utiliza en el español moderno para referirse a la virtud de enfrentarse a situaciones de peligro, miedo o dificultad con coraje y determinación. Es una cualidad atribuida a individuos que muestran audacia, coraje y firmeza ante situaciones adversas. También puede referirse a la capacidad de una persona para hacer frente a sus miedos y tomar decisiones difíciles.\n",
      "\n",
      "3. Energía: La vibración de la palabra \"valentía\" puede clasificarse como alta. El motivo de esta clasificación se debe a que la valentía es una cualidad positiva que implica fuerza, coraje y resiliencia. Estos son atributos energéticos y poderosos que inspiran acción y determinación. Por lo tanto, el término \"valentía\" transmite una energía fuerte y positiva.\n"
     ]
    },
    {
     "name": "stdout",
     "output_type": "stream",
     "text": [
      "\n",
      "🎨 ¿Te gustaría ver una representación visual mágica? (sí/no):  si\n"
     ]
    },
    {
     "name": "stdout",
     "output_type": "stream",
     "text": [
      "🎨 Generando imagen mágica...\n",
      "\n",
      "🖼️ Imagen generada: https://oaidalleapiprodscus.blob.core.windows.net/private/org-X1gfrmRfPsS7pNqKl2DAeA8S/user-wyVsCsUV4hHeYtl8aUszFgA6/img-J6sE7BTydvY89R3JvJwHOH6z.png?st=2024-12-04T00%3A02%3A39Z&se=2024-12-04T02%3A02%3A39Z&sp=r&sv=2024-08-04&sr=b&rscd=inline&rsct=image/png&skoid=d505667d-d6c1-4a0a-bac7-5c84a87759f8&sktid=a48cca56-e6da-484e-a814-9c849652bcb3&skt=2024-12-04T00%3A10%3A41Z&ske=2024-12-05T00%3A10%3A41Z&sks=b&skv=2024-08-04&sig=LzcHkZKn/K0Eg2jfRxYph26sWmEXnIW0Hs4lDrF7v6E%3D\n"
     ]
    },
    {
     "name": "stdout",
     "output_type": "stream",
     "text": [
      "\n",
      "🔮 Resultado del Diccionario Mágico para Atrevidos 🔮\n",
      "1. Etimología: La palabra 'dignidad' proviene del latín \"dignitas\", que significa \"digno\". En sus orígenes, estaba estrechamente relacionada con la idea de merecimiento y valor inherente. Se usaba para referirse a la nobleza de carácter y a la honradez en el comportamiento. \n",
      "\n",
      "2. Explicación derivada: En el contexto actual, 'dignidad' se refiere a la cualidad de ser digno, es decir, tener valor y merecimiento inherente. La dignidad se considera una cualidad intrínseca de los seres humanos, independientemente de su raza, género, religión o estado socioeconómico. Se asocia con la idea de respeto y reconocimiento a la valía de una persona y se considera un derecho fundamental. \n",
      "\n",
      "3. Energía: La palabra 'dignidad' tendría una vibración alta. Esto se debe a que se asocia con valores positivos y elevados como el respeto, la nobleza, la valía y la autoestima. Además, está ligada a los derechos humanos y a la justicia social, que son conceptos de gran valor y significado en la sociedad. La dignidad es algo que todos los seres humanos poseen y deben ser reconocidos, lo que le otorga una gran importancia y relevancia.\n"
     ]
    },
    {
     "name": "stdout",
     "output_type": "stream",
     "text": [
      "\n",
      "🎨 ¿Te gustaría ver una representación visual mágica? (sí/no):  si\n"
     ]
    },
    {
     "name": "stdout",
     "output_type": "stream",
     "text": [
      "🎨 Generando imagen mágica...\n",
      "\n",
      "🖼️ Imagen generada: ⚠️ Error al generar la imagen: The server had an error while processing your request. Sorry about that! You can retry your request, or contact us through our help center at help.openai.com if the error persists. (Please include the request ID req_12d33d067bd1b101582faece2e0f6b59 in your message.) {\n",
      "  \"error\": {\n",
      "    \"code\": null,\n",
      "    \"message\": \"The server had an error while processing your request. Sorry about that! You can retry your request, or contact us through our help center at help.openai.com if the error persists. (Please include the request ID req_12d33d067bd1b101582faece2e0f6b59 in your message.)\",\n",
      "    \"param\": null,\n",
      "    \"type\": \"server_error\"\n",
      "  }\n",
      "}\n",
      " 500 {'error': {'code': None, 'message': 'The server had an error while processing your request. Sorry about that! You can retry your request, or contact us through our help center at help.openai.com if the error persists. (Please include the request ID req_12d33d067bd1b101582faece2e0f6b59 in your message.)', 'param': None, 'type': 'server_error'}} {'Date': 'Wed, 04 Dec 2024 00:40:53 GMT', 'Content-Type': 'application/json', 'Content-Length': '370', 'Connection': 'keep-alive', 'access-control-allow-origin': '*', 'openai-version': '2020-10-01', 'openai-organization': 'user-wyvscsuv4hheytl8auszfga6', 'x-request-id': 'req_12d33d067bd1b101582faece2e0f6b59', 'openai-processing-ms': '10410', 'strict-transport-security': 'max-age=31536000; includeSubDomains; preload', 'CF-Cache-Status': 'DYNAMIC', 'X-Content-Type-Options': 'nosniff', 'Server': 'cloudflare', 'CF-RAY': '8ec7bf23bbebe9b8-SCL', 'alt-svc': 'h3=\":443\"; ma=86400'}\n"
     ]
    },
    {
     "name": "stdout",
     "output_type": "stream",
     "text": [
      "\n",
      "✨ ¿Te gustaría explorar alternativas mágicas? (sí/no):  si\n"
     ]
    },
    {
     "name": "stdout",
     "output_type": "stream",
     "text": [
      "\n",
      "4. Alternativas mágicas:\n",
      "Honor, respeto, integridad\n"
     ]
    }
   ],
   "source": [
    "\n",
    "# Importar la biblioteca de OpenAI\n",
    "import openai\n",
    "\n",
    "# Configurar la clave API\n",
    "openai.api_key = \"CLAVE API AQUÍ\"  # Reemplaza con tu clave válida\n",
    "\n",
    "def generar_imagen(entrada, descripcion_visual):\n",
    "    \"\"\"Genera una imagen mágica usando DALL·E basada en la descripción proporcionada.\"\"\"\n",
    "    try:\n",
    "        print(\"🎨 Generando imagen mágica...\")\n",
    "        secciones = descripcion_visual.split(\"\\n\")\n",
    "        prompt_reducido = \"\"\n",
    "        \n",
    "        for seccion in secciones:\n",
    "            if len(prompt_reducido) + len(seccion) + 1 <= 1000:\n",
    "                prompt_reducido += seccion + \"\\n\"\n",
    "            else:\n",
    "                break\n",
    "\n",
    "        image_response = openai.Image.create(\n",
    "            prompt=f\"Representación artística del concepto '{entrada}': {prompt_reducido}. Usa colores vibrantes y elementos mágicos.\",\n",
    "            n=1,\n",
    "            size=\"512x512\"\n",
    "        )\n",
    "        return image_response['data'][0]['url']\n",
    "    except Exception as e:\n",
    "        return f\"⚠️ Error al generar la imagen: {e}\"\n",
    "\n",
    "def dima_analisis_con_imagen_y_alternativas(tipo, entrada):\n",
    "    \"\"\"Realiza un análisis textual basado en la etimología y genera resultados mágicos.\"\"\"\n",
    "    try:\n",
    "        if tipo == \"1\":\n",
    "            prompt = f\"\"\"Analiza la palabra '{entrada}' en las siguientes dimensiones:\n",
    "            1. Etimología: Explica el origen histórico y cultural del término.\n",
    "            2. Explicación derivada: Describe el significado actual basado en su etimología.\n",
    "            3. Energía: Clasifica la vibración (alta, media, baja) y justifica.\"\"\"\n",
    "        elif tipo == \"2\":\n",
    "            prompt = f\"\"\"Simplifica el siguiente fragmento: '{entrada}'\n",
    "            1. Proporciona una explicación clara y accesible.\n",
    "            2. Energía: Clasifica la vibración (alta, media, baja) y justifica.\"\"\"\n",
    "\n",
    "        response = openai.ChatCompletion.create(\n",
    "            model=\"gpt-4\",\n",
    "            messages=[{\"role\": \"user\", \"content\": prompt}],\n",
    "            max_tokens=500,\n",
    "            temperature=0.7\n",
    "        )\n",
    "        \n",
    "        resultado = response['choices'][0]['message']['content']\n",
    "        print(\"\\n🔮 Resultado del Diccionario Mágico para Atrevidos 🔮\")\n",
    "        print(resultado)\n",
    "\n",
    "        if \"Vibración baja\" in resultado:\n",
    "            descripcion_visual = f\"Representación artística basada en: {resultado}\"\n",
    "            imagen_url = generar_imagen(entrada, descripcion_visual)\n",
    "            print(f\"\\n🖼️ Imagen generada automáticamente: {imagen_url}\")\n",
    "        else:\n",
    "            generar_imagen_opcion = input(\"\\n🎨 ¿Te gustaría ver una representación visual mágica? (sí/no): \").strip().lower()\n",
    "            if generar_imagen_opcion in [\"sí\", \"si\"]:\n",
    "                descripcion_visual = f\"Representación artística basada en: {resultado}\"\n",
    "                imagen_url = generar_imagen(entrada, descripcion_visual)\n",
    "                print(f\"\\n🖼️ Imagen generada: {imagen_url}\")\n",
    "        \n",
    "        alternativas_opcion = input(\"\\n✨ ¿Te gustaría explorar alternativas mágicas? (sí/no): \").strip().lower()\n",
    "        if alternativas_opcion in [\"sí\", \"si\"]:\n",
    "            alternativas_prompt = f\"\"\"Sugiere tres palabras alternativas que mantengan el significado de '{entrada}' pero sean más positivas.\"\"\"\n",
    "            response_alternativas = openai.ChatCompletion.create(\n",
    "                model=\"gpt-4\",\n",
    "                messages=[{\"role\": \"user\", \"content\": alternativas_prompt}],\n",
    "                max_tokens=100,\n",
    "                temperature=0.7\n",
    "            )\n",
    "            print(\"\\n4. Alternativas mágicas:\")\n",
    "            print(response_alternativas['choices'][0]['message']['content'])\n",
    "    except Exception as e:\n",
    "        print(f\"⚠️ Error al realizar el análisis: {e}\")\n",
    "\n",
    "def menu_interactivo():\n",
    "    while True:\n",
    "        print(\"\\n🌟 Bienvenido al Diccionario Mágico para Atrevidos 🌟\")\n",
    "        print(\"✨ ¿Qué deseas develar hoy? ✨\")\n",
    "        print(\"1. Decodificar palabras o conceptos\")\n",
    "        print(\"2. Entender un fragmento complejo\")\n",
    "        \n",
    "        tipo = input(\"Elige una opción (1 o 2): \").strip()\n",
    "        while tipo not in [\"1\", \"2\"]:\n",
    "            print(\"⚠️ Por favor, ingresa una opción válida: 1 o 2.\")\n",
    "            tipo = input(\"Elige una opción (1 o 2): \").strip()\n",
    "        \n",
    "        entrada = input(\"Escribe la palabra, concepto o fragmento para analizar: \").strip()\n",
    "        if entrada.isdigit():\n",
    "            entrada = str(entrada)\n",
    "        \n",
    "        dima_analisis_con_imagen_y_alternativas(tipo, entrada)\n",
    "        \n",
    "        otra_consulta = input(\"\\n¿Te gustaría realizar otra búsqueda? (sí/no): \").strip().lower()\n",
    "        if otra_consulta not in [\"sí\", \"si\"]:\n",
    "            print(\"\\n✨ Gracias por consultar el Diccionario Mágico para Atrevidos.\")\n",
    "            print(\"💫 Siempre a tu servicio para develar nuevos significados. ¡Hasta pronto! 💫\")\n",
    "            break\n",
    "\n",
    "menu_interactivo()\n"
   ]
  },
  {
   "cell_type": "markdown",
   "id": "f993b173",
   "metadata": {},
   "source": [
    "## Análisis de Mejoras\n",
    "### Avances Clave\n",
    "1. **Precisión Mejorada**:\n",
    "   - La técnica Few-shot Prompting proporcionó respuestas consistentes y completas para fragmentos complejos.\n",
    "2. **Ahorro de Tokens**:\n",
    "   - Zero-shot Prompting fue suficiente para tareas simples, reduciendo el costo computacional.\n",
    "3. **Eficiencia Visual**:\n",
    "   - Las imágenes generadas enriquecieron la experiencia del usuario, especialmente en conceptos con vibración baja.\n",
    "\n",
    "### Comparación con la Propuesta Inicial\n",
    "En comparación con la primera entrega, este POC ha logrado:\n",
    "- **Mayor Adaptabilidad**: La inclusión de diferentes configuraciones de prompts permite ajustar la solución a consultas simples y complejas.\n",
    "- **Interacción Amigable**: El menú interactivo guía al usuario a través del análisis de palabras y fragmentos.\n",
    "- **Resultados Enriquecidos**: Imágenes generadas automáticamente y sugerencias de alternativas mágicas amplían las capacidades de interpretación del sistema.\n"
   ]
  },
  {
   "cell_type": "markdown",
   "id": "e4483f0a-0e6c-4989-8164-5a559d231241",
   "metadata": {},
   "source": [
    "## Documentación Adicional\n",
    "Para más detalles sobre el desarrollo, análisis y reflexiones del proyecto, consulta los siguientes anexos:\n",
    "- [Análisis Comparativo de Técnicas de Fast Prompting](Anexo1_Analisis_Tecnicas_FastPrompting.ipynb)\n",
    "- [Código Optimizado](Anexo2_Codigo_Optimizado.ipynb)\n",
    "- [Casos de Uso y Resultados](Anexo3_Casos_de_Uso_y_Resultados.ipynb)\n",
    "- [Reflexión y Próximos Pasos](Anexo4_Reflexion_y_Proximos_Pasos.ipynb)\n",
    "\n",
    "- [Propuesta Original - Preentrega 1](Anexo5_Propuesta_Original_Preentrega1.ipynb)"
   ]
  },
  {
   "cell_type": "code",
   "execution_count": null,
   "id": "c91cb565-145e-4a91-8a5a-494f4833f3d6",
   "metadata": {},
   "outputs": [],
   "source": [
    "## Conclusión\n",
    "El **Diccionario Mágico para Atrevidos** demuestra cómo las técnicas de Fast Prompting pueden transformar la interacción con modelos de lenguaje, optimizando la precisión y adaptabilidad según las necesidades del usuario. Este POC muestra la viabilidad del enfoque y sienta las bases para expansiones futuras, incluyendo interfaces gráficas, personalización y multilingüismo.\n",
    "\n",
    "El proyecto no solo resuelve problemas técnicos, sino que también promueve una reflexión consciente sobre el impacto del lenguaje en nuestra comunicación diaria.\n"
   ]
  }
 ],
 "metadata": {
  "kernelspec": {
   "display_name": "Python 3 (ipykernel)",
   "language": "python",
   "name": "python3"
  },
  "language_info": {
   "codemirror_mode": {
    "name": "ipython",
    "version": 3
   },
   "file_extension": ".py",
   "mimetype": "text/x-python",
   "name": "python",
   "nbconvert_exporter": "python",
   "pygments_lexer": "ipython3",
   "version": "3.12.4"
  }
 },
 "nbformat": 4,
 "nbformat_minor": 5
}

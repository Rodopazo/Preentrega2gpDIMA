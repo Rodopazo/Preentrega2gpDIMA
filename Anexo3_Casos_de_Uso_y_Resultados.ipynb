{
 "cells": [
  {
   "cell_type": "markdown",
   "id": "2907d70d",
   "metadata": {},
   "source": [
    "# Anexo 3: Casos de Uso y Resultados\n"
   ]
  },
  {
   "cell_type": "markdown",
   "id": "f9b4bd87",
   "metadata": {},
   "source": [
    "## Introducción\n",
    "En este anexo se presentan casos de uso prácticos del **Diccionario Mágico para Atrevidos**. Se muestran ejemplos representativos de consultas realizadas al sistema, incluyendo palabras y fragmentos complejos, así como los resultados obtenidos. También se incluyen las imágenes generadas por DALL·E y las alternativas mágicas propuestas.\n"
   ]
  },
  {
   "cell_type": "markdown",
   "id": "80b25335",
   "metadata": {},
   "source": [
    "## Caso 1: Palabra con Vibración Baja\n",
    "### Entrada del Usuario:\n",
    "- Palabra: *Trabajo*\n",
    "\n",
    "### Resultado:\n",
    "1. **Etimología:**\n",
    "'Trabajo' proviene del latín *tripalium*, un instrumento de tortura, lo que lo asocia con esfuerzo obligatorio.\n",
    "\n",
    "2. **Explicación Derivada:**\n",
    "El término refleja esfuerzo obligatorio, pero en la actualidad se refiere a la energía invertida para crear algo significativo.\n",
    "\n",
    "3. **Energía:**\n",
    "- Vibración baja. Justificación: Asociada con sufrimiento y esfuerzo obligatorio.\n",
    "\n",
    "4. **Imagen Generada Automáticamente:**\n",
    "- Representación artística del concepto de esfuerzo obligatorio y dolor (generada con DALL·E).\n",
    "\n",
    "![Imagen no incluida en la documentación de ejemplo](#)\n",
    "\n",
    "5. **Alternativas Mágicas:**\n",
    "- Actividad: Resalta la acción y el movimiento.\n",
    "- Proyecto: Destaca la intención y creatividad.\n",
    "- Empeño: Enfatiza la dedicación personal.\n"
   ]
  },
  {
   "cell_type": "markdown",
   "id": "5b9e9358",
   "metadata": {},
   "source": [
    "## Caso 2: Palabra con Vibración Alta\n",
    "### Entrada del Usuario:\n",
    "- Palabra: *Amor*\n",
    "\n",
    "### Resultado:\n",
    "1. **Etimología:**\n",
    "'Amor' proviene del latín *amor*, que significa afecto o pasión.\n",
    "\n",
    "2. **Explicación Derivada:**\n",
    "Representa una conexión afectiva profunda, generalmente asociada con emociones positivas y lazos significativos.\n",
    "\n",
    "3. **Energía:**\n",
    "- Vibración alta. Justificación: Asociada con emociones positivas, empatía y conexión.\n",
    "\n",
    "4. **Imagen (Opcional):**\n",
    "- Representación artística del concepto de amor con colores cálidos y elementos de conexión (generada con DALL·E).\n",
    "\n",
    "![Imagen no incluida en la documentación de ejemplo](#)\n",
    "\n",
    "5. **Alternativas Mágicas (Opcional):**\n",
    "- Afinidad: Destaca la conexión y cercanía.\n",
    "- Pasión: Enfatiza el compromiso y entusiasmo.\n",
    "- Compasión: Refleja empatía y comprensión mutua.\n"
   ]
  },
  {
   "cell_type": "markdown",
   "id": "f2cada6a",
   "metadata": {},
   "source": [
    "## Caso 3: Fragmento Complejo\n",
    "### Entrada del Usuario:\n",
    "- Fragmento: *El cambio climático altera los patrones climáticos globales y afecta ecosistemas y vidas humanas.*\n",
    "\n",
    "### Resultado:\n",
    "1. **Simplificación:**\n",
    "El cambio climático es un proceso en el que las actividades humanas alteran el equilibrio climático global, impactando la naturaleza y las comunidades humanas.\n",
    "\n",
    "2. **Energía:**\n",
    "- Vibración baja. Justificación: Asociada con la urgencia y la necesidad de acción para prevenir mayores daños.\n",
    "\n",
    "3. **Imagen Generada Automáticamente:**\n",
    "- Representación artística del cambio climático como un proceso disruptivo que afecta ecosistemas y comunidades humanas (generada con DALL·E).\n",
    "\n",
    "![Imagen no incluida en la documentación de ejemplo](#)\n",
    "\n",
    "4. **Alternativas Mágicas:**\n",
    "- Adaptación climática: Destaca soluciones frente a desafíos.\n",
    "- Regeneración ecológica: Resalta la restauración del equilibrio natural.\n",
    "- Resiliencia global: Representa la capacidad colectiva de superar crisis.\n"
   ]
  },
  {
   "cell_type": "markdown",
   "id": "524cf3e6",
   "metadata": {},
   "source": [
    "## Conclusión\n",
    "Los casos de uso presentados demuestran la versatilidad del **Diccionario Mágico para Atrevidos** al abordar tanto palabras simples como fragmentos complejos. La combinación de análisis textual, generación de imágenes y alternativas mágicas permite a los usuarios reflexionar sobre el impacto del lenguaje y mejorar su comunicación de manera consciente.\n"
   ]
  }
 ],
 "metadata": {
  "kernelspec": {
   "display_name": "Python 3 (ipykernel)",
   "language": "python",
   "name": "python3"
  },
  "language_info": {
   "codemirror_mode": {
    "name": "ipython",
    "version": 3
   },
   "file_extension": ".py",
   "mimetype": "text/x-python",
   "name": "python",
   "nbconvert_exporter": "python",
   "pygments_lexer": "ipython3",
   "version": "3.12.4"
  }
 },
 "nbformat": 4,
 "nbformat_minor": 5
}
